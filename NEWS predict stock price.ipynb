{
  "nbformat": 4,
  "nbformat_minor": 0,
  "metadata": {
    "colab": {
      "provenance": [],
      "gpuType": "T4",
      "include_colab_link": true
    },
    "kernelspec": {
      "name": "python3",
      "display_name": "Python 3"
    },
    "language_info": {
      "name": "python"
    },
    "gpuClass": "standard",
    "accelerator": "GPU"
  },
  "cells": [
    {
      "cell_type": "markdown",
      "metadata": {
        "id": "view-in-github",
        "colab_type": "text"
      },
      "source": [
        "<a href=\"https://colab.research.google.com/github/camilla8989/pythonstudy/blob/main/NEWS%20predict%20stock%20price.ipynb\" target=\"_parent\"><img src=\"https://colab.research.google.com/assets/colab-badge.svg\" alt=\"Open In Colab\"/></a>"
      ]
    },
    {
      "cell_type": "markdown",
      "source": [
        "# Get News headlines"
      ],
      "metadata": {
        "id": "V8BP7LAa43wm"
      }
    },
    {
      "cell_type": "code",
      "source": [
        "!pip install lxml\n",
        "!pip install html5lib\n",
        "\n",
        "import urllib.request\n",
        "import bs4 as bs\n",
        "import yfinance as yf\n",
        "import time\n",
        "import pandas as pd\n",
        "import numpy as np\n",
        "from datetime import datetime, timedelta\n",
        "\n",
        "def get_news(ticker, start_date, end_date):\n",
        "    current_date = datetime.strptime(start_date, '%Y-%m-%d')\n",
        "    end_date = datetime.strptime(end_date, '%Y-%m-%d')\n",
        "    delta = timedelta(days=1)\n",
        "    headlines = []\n",
        "\n",
        "    while current_date <= end_date:\n",
        "        formatted_date = current_date.strftime('%Y-%m-%d')\n",
        "        \n",
        "        # Fetch news from Google News RSS search\n",
        "        query_date = current_date.strftime('%Y%m%d')\n",
        "        url = f'https://news.google.com/rss/search?q={ticker}+after%3A{query_date}+before%3A{query_date}&hl=en-US&gl=US&ceid=US:en'\n",
        "        try:\n",
        "            doc = urllib.request.urlopen(url).read()\n",
        "            parsed_doc = bs.BeautifulSoup(doc,'lxml')\n",
        "\n",
        "            titles = parsed_doc.find_all('title')\n",
        "            pub_dates = parsed_doc.find_all('pubdate')\n",
        "\n",
        "            daily_headlines = [{'Headline': title.text, 'Date': formatted_date} for title, pub_date in zip(titles, pub_dates)]\n",
        "            headlines.extend(daily_headlines)\n",
        "        except Exception as e:\n",
        "            print(f\"Error on {formatted_date} (Google News): {e}\")\n",
        "\n",
        "        # Fetch news from Yahoo Finance\n",
        "        url = f\"https://finance.yahoo.com/rss/headline?s={ticker}&t={formatted_date}\"\n",
        "        try:\n",
        "            doc = urllib.request.urlopen(url).read()\n",
        "            parsed_doc = bs.BeautifulSoup(doc,'xml')\n",
        "\n",
        "            items = parsed_doc.find_all('item')\n",
        "            daily_headlines = [{'Headline': item.title.text, 'Date': formatted_date} for item in items]\n",
        "            headlines.extend(daily_headlines)\n",
        "        except Exception as e:\n",
        "            print(f\"Error on {formatted_date} (Yahoo Finance): {e}\")\n",
        "        \n",
        "        current_date += delta\n",
        "        time.sleep(15)\n",
        "\n",
        "    return headlines"
      ],
      "metadata": {
        "id": "LD16NEPb76P8"
      },
      "execution_count": null,
      "outputs": []
    },
    {
      "cell_type": "code",
      "source": [
        "ticker = 'AMAZON'\n",
        "ticker_stock = 'AMZN'\n",
        "start_date = '2022-08-01'\n",
        "end_date = '2023-05-01'\n",
        "\n",
        "headlines = get_news(ticker, start_date, end_date)\n",
        "headlines.to_csv(\"output-1.csv\", index=False)"
      ],
      "metadata": {
        "id": "DDkSCMVp8qsL"
      },
      "execution_count": null,
      "outputs": []
    },
    {
      "cell_type": "markdown",
      "source": [
        "# Get Stock data and Label "
      ],
      "metadata": {
        "id": "kEzx81uZ43tt"
      }
    },
    {
      "cell_type": "code",
      "execution_count": null,
      "metadata": {
        "colab": {
          "base_uri": "https://localhost:8080/"
        },
        "id": "_D9ZeNLZrRGD",
        "outputId": "2bbe1375-5fa1-4ff6-ce29-09f7377cf81c"
      },
      "outputs": [
        {
          "output_type": "stream",
          "name": "stdout",
          "text": [
            "\r[*********************100%***********************]  1 of 1 completed\n"
          ]
        }
      ],
      "source": [
        "import pandas as pd\n",
        "import yfinance as yf\n",
        "\n",
        "data = pd.read_csv(\"output-1.csv\")\n",
        "\n",
        "# Use the \"Date\" column as an index and combine rows with the same date into one row\n",
        "data['Date'] = pd.to_datetime(data['Date'])\n",
        "data = data.groupby('Date').agg(lambda x: ', '.join(set(x.dropna()))).reset_index()\n",
        "\n",
        "# Get Amazon stock price from yfinance\n",
        "start_date = data['Date'].min().strftime('%Y-%m-%d')\n",
        "end_date = data['Date'].max().strftime('%Y-%m-%d')\n",
        "AMZN_stock = yf.download('AMZN', start=start_date, end=end_date)\n",
        "\n",
        "# Calculate daily stock price changes\n",
        "AMZN_stock['Price_Change'] = AMZN_stock['Close'].pct_change()\n",
        "\n",
        "# Label stock price changes\n",
        "AMZN_stock['Label'] = AMZN_stock['Price_Change'].apply(lambda x: 1 if x > 0 else (-1 if x < 0 else 0))\n",
        "\n",
        "# reset index\n",
        "AMZN_stock = AMZN_stock.reset_index()\n",
        "\n",
        "# Merge datasets\n",
        "merged_data = pd.merge(data, AMZN_stock[['Date', 'Label']], on='Date', how='left')\n",
        "\n",
        "# remove rows without stock prices\n",
        "merged_data = merged_data.dropna(subset=['Label'])\n",
        "\n",
        "# convert Label column to integer\n",
        "merged_data['Label'] = merged_data['Label'].astype(int)\n",
        "\n",
        "\n",
        "data = merged_data"
      ]
    },
    {
      "cell_type": "markdown",
      "source": [
        "# Clean data"
      ],
      "metadata": {
        "id": "H4cWVlqH5Ian"
      }
    },
    {
      "cell_type": "code",
      "source": [
        "#CLEANING THE DATA \n",
        "import string\n",
        "import re\n",
        "from nltk.corpus import stopwords\n",
        "from nltk.stem import PorterStemmer\n",
        "import nltk\n",
        "nltk.download('stopwords')\n",
        "\n",
        "# Remove 'Google News' and 'AMAZON after'\n",
        "data['Headline'] = data['Headline'].str.replace(\"Google News\", \"\", regex=False)\n",
        "data['Headline'] = data['Headline'].str.replace(\"AMAZON after\", \"\", regex=False)\n",
        "\n",
        "# Remove punctuation marks\n",
        "merged_data['Headline'] = merged_data['Headline'].apply(lambda x: x.translate(str.maketrans('', '', string.punctuation)))\n",
        "\n",
        "# Convert headlines to lowercase\n",
        "merged_data['Headline'] = merged_data['Headline'].str.lower()\n",
        "\n",
        "# Remove stopwords\n",
        "stop_words = set(stopwords.words('english'))\n",
        "merged_data['Headline'] = merged_data['Headline'].apply(lambda x: ' '.join([word for word in x.split() if word not in stop_words]))\n",
        "\n",
        "# Apply stemming\n",
        "stemmer = PorterStemmer()\n",
        "merged_data['Headline'] = merged_data['Headline'].apply(lambda x: ' '.join([stemmer.stem(word) for word in x.split()]))\n",
        "\n",
        "# Remove non-alphabetic characters\n",
        "merged_data['Headline'] = merged_data['Headline'].apply(lambda x: re.sub(r'[^a-zA-Z]', ' ', x))\n",
        "\n",
        "merged_data.to_csv(\"output_final.csv\", index=False)"
      ],
      "metadata": {
        "colab": {
          "base_uri": "https://localhost:8080/"
        },
        "id": "vNF-1DfGu0-E",
        "outputId": "ab93ae08-2a3d-4b52-eeaf-ce8cbade47ec"
      },
      "execution_count": null,
      "outputs": [
        {
          "output_type": "stream",
          "name": "stderr",
          "text": [
            "[nltk_data] Downloading package stopwords to /root/nltk_data...\n",
            "[nltk_data]   Unzipping corpora/stopwords.zip.\n"
          ]
        }
      ]
    },
    {
      "cell_type": "markdown",
      "source": [
        "# SENTIMENT SCORE\n",
        "\n",
        "VADER’s SentimentIntensityAnalyzer() takes in a string and returns a dictionary of scores in each of four categories:\n",
        "\n",
        "*   negative\n",
        "*   neutral\n",
        "*   positive\n",
        "*   compound (computed by normalizing the scores above\n",
        "\n",
        "The compound score is our target sentiment score which is ranged from -1 to 1. We can set a threshold that if the compound score is above 0.05, the sentiment is overall positive. The higher the score, the better the sentiment. In opposite, if the compound score is lower than -0.05, the sentiment is negative. If the score is between -0.05 to 0.05, the sentiment is neutral (neither positive nor negative)."
      ],
      "metadata": {
        "id": "Dc6TUPLRCFwb"
      }
    },
    {
      "cell_type": "code",
      "source": [
        "from nltk.sentiment.vader import SentimentIntensityAnalyzer\n",
        "import nltk \n",
        "! pip install nltk\n",
        "nltk.download('vader_lexicon')\n",
        "\n",
        "# Read in the data\n",
        "headline = data['Headline']\n",
        "\n",
        "#calculation of sentiment score\n",
        "def calc_sentiment_score(headline):\n",
        "    analyser = SentimentIntensityAnalyzer()\n",
        "    scores = analyser.polarity_scores(headline)\n",
        "    return scores['compound']"
      ],
      "metadata": {
        "colab": {
          "base_uri": "https://localhost:8080/"
        },
        "id": "OnM8_BG6CQgU",
        "outputId": "1b9f0763-ed24-431e-e08d-5cc790393430"
      },
      "execution_count": null,
      "outputs": [
        {
          "output_type": "stream",
          "name": "stdout",
          "text": [
            "Looking in indexes: https://pypi.org/simple, https://us-python.pkg.dev/colab-wheels/public/simple/\n",
            "Requirement already satisfied: nltk in /usr/local/lib/python3.10/dist-packages (3.8.1)\n",
            "Requirement already satisfied: click in /usr/local/lib/python3.10/dist-packages (from nltk) (8.1.3)\n",
            "Requirement already satisfied: joblib in /usr/local/lib/python3.10/dist-packages (from nltk) (1.2.0)\n",
            "Requirement already satisfied: tqdm in /usr/local/lib/python3.10/dist-packages (from nltk) (4.65.0)\n",
            "Requirement already satisfied: regex>=2021.8.3 in /usr/local/lib/python3.10/dist-packages (from nltk) (2022.10.31)\n"
          ]
        },
        {
          "output_type": "stream",
          "name": "stderr",
          "text": [
            "[nltk_data] Downloading package vader_lexicon to /root/nltk_data...\n"
          ]
        }
      ]
    },
    {
      "cell_type": "code",
      "source": [
        "def calc_sentiment_score_normalized(headline):\n",
        "    analyser = SentimentIntensityAnalyzer()\n",
        "    scores = analyser.polarity_scores(headline)\n",
        "    \n",
        "    # Define minimum and maximum values for the compound score\n",
        "    min_score = -1\n",
        "    max_score = 1\n",
        "    \n",
        "    # Normalize the compound score to a range of 0 to 1\n",
        "    normalized_score = (scores['compound'] - min_score) / (max_score - min_score)\n",
        "    \n",
        "    return normalized_score\n",
        "\n",
        "analyser = SentimentIntensityAnalyzer()\n",
        "\n",
        "for headline in data['Headline']:\n",
        "    scores = analyser.polarity_scores(headline)\n",
        "    \n",
        "\n",
        "data['sentiment_score'] = data['Headline'].apply(calc_sentiment_score)"
      ],
      "metadata": {
        "id": "nTmYUdRlCU6p"
      },
      "execution_count": null,
      "outputs": []
    },
    {
      "cell_type": "code",
      "source": [
        "#normalized sentiment score\n",
        "\n",
        "analyser = SentimentIntensityAnalyzer()\n",
        "\n",
        "for headline in data['Headline']:\n",
        "    scores = analyser.polarity_scores(headline)\n",
        "    \n",
        "\n",
        "data['sentiment_score_normalized'] = data['Headline'].apply(calc_sentiment_score_normalized)\n",
        "data.dropna(inplace=True)\n",
        "\n",
        "print(data)"
      ],
      "metadata": {
        "colab": {
          "base_uri": "https://localhost:8080/"
        },
        "id": "M0uSiTwwDP3h",
        "outputId": "5e2dbd7e-621b-4933-b516-88fb418bee53"
      },
      "execution_count": null,
      "outputs": [
        {
          "output_type": "stream",
          "name": "stdout",
          "text": [
            "          Date                                           Headline  Label  \\\n",
            "0   2022-08-01  ad age small agenc      believ adagecom cinema...      0   \n",
            "1   2022-08-02  kia sonet offici review page     teambhp got a...     -1   \n",
            "2   2022-08-03  roman kemp say contempl suicid depress battl t...      1   \n",
            "3   2022-08-04  nfl hall fame game start time watch stream rai...      1   \n",
            "4   2022-08-05   pluck thin air  paramount play afl bid eye fu...     -1   \n",
            "..         ...                                                ...    ...   \n",
            "266 2023-04-24  real madrid vs liverpool preview date time liv...     -1   \n",
            "267 2023-04-25  morn scan big stori get start day moneycontrol...     -1   \n",
            "268 2023-04-26  french pm delay immigr bill due lack parliamen...      1   \n",
            "269 2023-04-27     predict      etf focu thestreet etf researc...      1   \n",
            "270 2023-04-28  new histori brazil lula decre six indigen rese...     -1   \n",
            "\n",
            "     sentiment_score  sentiment_score_normalized  \n",
            "0             0.9337                     0.96685  \n",
            "1             0.6597                     0.82985  \n",
            "2             0.3400                     0.67000  \n",
            "3            -0.1280                     0.43600  \n",
            "4             0.4019                     0.70095  \n",
            "..               ...                         ...  \n",
            "266           0.9451                     0.97255  \n",
            "267          -0.1280                     0.43600  \n",
            "268           0.9955                     0.99775  \n",
            "269           0.9975                     0.99875  \n",
            "270           0.9967                     0.99835  \n",
            "\n",
            "[188 rows x 5 columns]\n"
          ]
        }
      ]
    },
    {
      "cell_type": "markdown",
      "source": [
        "# Train data"
      ],
      "metadata": {
        "id": "Kosofdm45YAP"
      }
    },
    {
      "cell_type": "markdown",
      "source": [
        "## Logistic Regression"
      ],
      "metadata": {
        "id": "7aQyPIu35b4u"
      }
    },
    {
      "cell_type": "markdown",
      "source": [
        "\n",
        "\n",
        "1.   Prepare data\n",
        "\n",
        "\n",
        "*   Set train set and test set\n",
        "*   Convert to word vector and  create sparse matrices. We change the training set by changing the n-gram algorithm.\n",
        "*   Change from countvectorizer to tfidfvectorizer. But it does not have much effect on the improvement of accuracy. The reason may be due to too few data samples.\n",
        "\n",
        "\n",
        "\n",
        "\n",
        "\n",
        "\n",
        "2.   Train data\n",
        "3.   Evaluation model\n",
        "\n"
      ],
      "metadata": {
        "id": "1A4Ad8PmmhE-"
      }
    },
    {
      "cell_type": "code",
      "source": [
        "import pandas as pd\n",
        "from sklearn.feature_extraction.text import CountVectorizer, TfidfVectorizer\n",
        "from sklearn.linear_model import LogisticRegression\n",
        "from sklearn.model_selection import train_test_split\n",
        "from nltk.stem import WordNetLemmatizer\n",
        "\n",
        "# Read in the data\n",
        "data = pd.read_csv('output_final.csv', encoding = \"ISO-8859-1\")\n",
        "data.head(1)\n",
        "data = data[['Headline','Label']]\n",
        "\n",
        "# Set train set and test set\n",
        "train, test = train_test_split(data, test_size=0.3)\n",
        "headlines = train['Headline'].astype(str).tolist()\n",
        "\n",
        "# Convert to word vector with single word, create sparse matrices \n",
        "vectorizer = TfidfVectorizer(ngram_range=(1, 1))\n",
        "train_features = vectorizer.fit_transform(headlines)\n",
        "print(train_features.shape)\n",
        "\n",
        "# Train Model\n",
        "model = LogisticRegression(max_iter=1000)\n",
        "model = model.fit(train_features, train[\"Label\"])\n",
        "\n",
        "# Prediction\n",
        "test_headlines = test['Headline'].tolist()\n",
        "test_features = vectorizer.transform(test_headlines)\n",
        "predictions = model.predict(test_features)\n",
        "\n",
        "# Evaluation model\n",
        "from sklearn.metrics import classification_report\n",
        "from sklearn.metrics import f1_score\n",
        "from sklearn.metrics import accuracy_score \n",
        "from sklearn.metrics import confusion_matrix\n",
        "\n",
        "print (classification_report(test[\"Label\"], predictions))\n",
        "print (accuracy_score(test[\"Label\"], predictions))"
      ],
      "metadata": {
        "colab": {
          "base_uri": "https://localhost:8080/"
        },
        "id": "3K7Lpe_1yaZt",
        "outputId": "b4d15ae4-7ab0-4f17-b7b4-13755b65e6bd"
      },
      "execution_count": null,
      "outputs": [
        {
          "output_type": "stream",
          "name": "stdout",
          "text": [
            "(131, 9308)\n",
            "              precision    recall  f1-score   support\n",
            "\n",
            "          -1       0.66      0.64      0.65        36\n",
            "           1       0.41      0.43      0.42        21\n",
            "\n",
            "    accuracy                           0.56        57\n",
            "   macro avg       0.53      0.53      0.53        57\n",
            "weighted avg       0.57      0.56      0.56        57\n",
            "\n",
            "0.5614035087719298\n"
          ]
        }
      ]
    },
    {
      "cell_type": "code",
      "source": [
        "# Convert to word vector with ngram=2 & ngram=3, create sparse matrices \n",
        "basicvectorizer2 = TfidfVectorizer(ngram_range=(2,3))\n",
        "basictrain2 = basicvectorizer2.fit_transform(headlines)\n",
        "print(basictrain2.shape)\n",
        "\n",
        "basicmodel2 = LogisticRegression(max_iter=1000)\n",
        "basicmodel2 = basicmodel2.fit(basictrain2, train[\"Label\"])\n",
        "\n",
        "basictest2 = basicvectorizer2.transform(test_headlines)\n",
        "predictions2 = basicmodel2.predict(basictest2)\n",
        "\n",
        "pd.crosstab(test[\"Label\"], predictions2, rownames=[\"Actual\"], colnames=[\"Predicted\"])\n",
        "\n",
        "print (classification_report(test[\"Label\"], predictions2))\n",
        "print (accuracy_score(test[\"Label\"], predictions2))"
      ],
      "metadata": {
        "colab": {
          "base_uri": "https://localhost:8080/"
        },
        "id": "hQa6qKZjvLMn",
        "outputId": "e228f717-e9fc-4d00-993e-8ceb8f189f07"
      },
      "execution_count": null,
      "outputs": [
        {
          "output_type": "stream",
          "name": "stdout",
          "text": [
            "(131, 70906)\n",
            "              precision    recall  f1-score   support\n",
            "\n",
            "          -1       0.61      0.66      0.63        35\n",
            "           0       0.00      0.00      0.00         1\n",
            "           1       0.37      0.33      0.35        21\n",
            "\n",
            "    accuracy                           0.53        57\n",
            "   macro avg       0.32      0.33      0.33        57\n",
            "weighted avg       0.51      0.53      0.52        57\n",
            "\n",
            "0.5263157894736842\n"
          ]
        },
        {
          "output_type": "stream",
          "name": "stderr",
          "text": [
            "/usr/local/lib/python3.10/dist-packages/sklearn/metrics/_classification.py:1344: UndefinedMetricWarning: Precision and F-score are ill-defined and being set to 0.0 in labels with no predicted samples. Use `zero_division` parameter to control this behavior.\n",
            "  _warn_prf(average, modifier, msg_start, len(result))\n",
            "/usr/local/lib/python3.10/dist-packages/sklearn/metrics/_classification.py:1344: UndefinedMetricWarning: Precision and F-score are ill-defined and being set to 0.0 in labels with no predicted samples. Use `zero_division` parameter to control this behavior.\n",
            "  _warn_prf(average, modifier, msg_start, len(result))\n",
            "/usr/local/lib/python3.10/dist-packages/sklearn/metrics/_classification.py:1344: UndefinedMetricWarning: Precision and F-score are ill-defined and being set to 0.0 in labels with no predicted samples. Use `zero_division` parameter to control this behavior.\n",
            "  _warn_prf(average, modifier, msg_start, len(result))\n"
          ]
        }
      ]
    },
    {
      "cell_type": "markdown",
      "source": [
        "## BERT\n",
        "\n",
        "\n",
        "\n",
        "1.   Define dataset:\n",
        "\n",
        "*   Accepts a Pandas DataFrame (dataframe), a tokenizer (tokenizer) and a maximum length value\n",
        "*   I specify to return the encoding result in the form of PyTorch tensor through the return_tensors parameter. I also use max_length, padding and truncation parameters to ensure that all encoded inputs have the same length, either by padding or truncation\n",
        "\n",
        "2.   Populate configuration items\n",
        "3.   Start to train\n",
        "4.   Evaluate the model on the test set\n",
        "\n",
        "\n",
        "\n",
        "> In order to improve the accuracy. I tried modifying the learning rate and epochs. The learning rate changed from '2e-5' to '3e-5', and the epochs changed from '4' to '6'. Accuracy increased from 0.47 to 0.54.\n",
        "\n",
        "\n",
        "\n",
        "> Early Stopping: Use early stopping techniques to stop training when validation accuracy is no longer improving. This prevents the model from overfitting.\n",
        "\n",
        "> Regularization: Add weight decay (such as L2 regularization) to the optimizer to reduce model complexity and prevent overfitting.\n",
        "\n",
        "> More features: Try using more features like n-gram features, word embeddings (such as Word2Vec) or other natural language processing techniques to help the model learn and understand the data better.\n",
        "\n",
        "\n",
        "\n"
      ],
      "metadata": {
        "id": "GpWNubDh5m9v"
      }
    },
    {
      "cell_type": "code",
      "source": [
        "!pip install transformers\n",
        "import pandas as pd\n",
        "from sklearn.model_selection import train_test_split\n",
        "from transformers import BertTokenizer, BertForSequenceClassification\n",
        "from torch.utils.data import DataLoader, Dataset\n",
        "import torch\n",
        "import torch.nn as nn\n",
        "import torch.optim as optim\n",
        "from sklearn.metrics import classification_report, accuracy_score\n",
        "import matplotlib.pyplot as plt\n",
        "\n",
        "# Convert format\n",
        "data = pd.read_csv('output_final.csv', encoding = \"ISO-8859-1\")\n",
        "data['Headline'] = data['Headline'].astype(str)\n",
        "data['Label'] = data['Label'] + 1\n",
        "data['Label'] = data['Label'].astype(int)\n",
        "\n",
        "# Split the data into training and testing sets with a 7:3 ratio\n",
        "train_data, test_data = train_test_split(data, test_size=0.3, random_state=42)\n",
        "\n",
        "\n",
        "\n",
        "class NewsDataset(Dataset):\n",
        "    def __init__(self, dataframe, tokenizer, max_len):\n",
        "        self.data = dataframe\n",
        "        self.tokenizer = tokenizer\n",
        "        self.max_len = max_len\n",
        "\n",
        "    def __len__(self):\n",
        "        return len(self.data)\n",
        "\n",
        "    def __getitem__(self, index):\n",
        "        row = self.data.iloc[index]\n",
        "        headline = row['Headline']\n",
        "        label = row['Label']\n",
        "        inputs = self.tokenizer(headline, return_tensors=\"pt\", max_length=self.max_len, padding=True, truncation=True)\n",
        "        input_ids = inputs[\"input_ids\"].squeeze()\n",
        "        attention_mask = inputs[\"attention_mask\"].squeeze()\n",
        "\n",
        "        return input_ids, attention_mask, label\n",
        "\n",
        "# Config\n",
        "tokenizer = BertTokenizer.from_pretrained(\"bert-base-uncased\")\n",
        "device = torch.device(\"cuda\" if torch.cuda.is_available() else \"cpu\")\n",
        "model = BertForSequenceClassification.from_pretrained(\"bert-base-uncased\", num_labels=3)\n",
        "model.to(device)\n",
        "\n",
        "max_len = 128\n",
        "batch_size = 16\n",
        "epochs = 6\n",
        "\n",
        "train_dataset = NewsDataset(train_data, tokenizer, max_len)\n",
        "test_dataset = NewsDataset(test_data, tokenizer, max_len)\n",
        "train_dataloader = DataLoader(train_dataset, batch_size=batch_size, shuffle=True)\n",
        "test_dataloader = DataLoader(test_dataset, batch_size=batch_size, shuffle=False)\n",
        "\n",
        "loss_fn = nn.CrossEntropyLoss()\n",
        "optimizer = optim.Adam(model.parameters(), lr=3e-5)\n",
        "\n"
      ],
      "metadata": {
        "colab": {
          "base_uri": "https://localhost:8080/"
        },
        "id": "uTji2KOUzVXK",
        "outputId": "a4149396-c5df-422a-9b20-e2574d519c0d"
      },
      "execution_count": null,
      "outputs": [
        {
          "output_type": "stream",
          "name": "stdout",
          "text": [
            "Looking in indexes: https://pypi.org/simple, https://us-python.pkg.dev/colab-wheels/public/simple/\n",
            "Requirement already satisfied: transformers in /usr/local/lib/python3.10/dist-packages (4.28.1)\n",
            "Requirement already satisfied: pyyaml>=5.1 in /usr/local/lib/python3.10/dist-packages (from transformers) (6.0)\n",
            "Requirement already satisfied: tqdm>=4.27 in /usr/local/lib/python3.10/dist-packages (from transformers) (4.65.0)\n",
            "Requirement already satisfied: huggingface-hub<1.0,>=0.11.0 in /usr/local/lib/python3.10/dist-packages (from transformers) (0.14.1)\n",
            "Requirement already satisfied: regex!=2019.12.17 in /usr/local/lib/python3.10/dist-packages (from transformers) (2022.10.31)\n",
            "Requirement already satisfied: requests in /usr/local/lib/python3.10/dist-packages (from transformers) (2.27.1)\n",
            "Requirement already satisfied: packaging>=20.0 in /usr/local/lib/python3.10/dist-packages (from transformers) (23.1)\n",
            "Requirement already satisfied: numpy>=1.17 in /usr/local/lib/python3.10/dist-packages (from transformers) (1.22.4)\n",
            "Requirement already satisfied: filelock in /usr/local/lib/python3.10/dist-packages (from transformers) (3.12.0)\n",
            "Requirement already satisfied: tokenizers!=0.11.3,<0.14,>=0.11.1 in /usr/local/lib/python3.10/dist-packages (from transformers) (0.13.3)\n",
            "Requirement already satisfied: fsspec in /usr/local/lib/python3.10/dist-packages (from huggingface-hub<1.0,>=0.11.0->transformers) (2023.4.0)\n",
            "Requirement already satisfied: typing-extensions>=3.7.4.3 in /usr/local/lib/python3.10/dist-packages (from huggingface-hub<1.0,>=0.11.0->transformers) (4.5.0)\n",
            "Requirement already satisfied: urllib3<1.27,>=1.21.1 in /usr/local/lib/python3.10/dist-packages (from requests->transformers) (1.26.15)\n",
            "Requirement already satisfied: charset-normalizer~=2.0.0 in /usr/local/lib/python3.10/dist-packages (from requests->transformers) (2.0.12)\n",
            "Requirement already satisfied: idna<4,>=2.5 in /usr/local/lib/python3.10/dist-packages (from requests->transformers) (3.4)\n",
            "Requirement already satisfied: certifi>=2017.4.17 in /usr/local/lib/python3.10/dist-packages (from requests->transformers) (2022.12.7)\n"
          ]
        },
        {
          "output_type": "stream",
          "name": "stderr",
          "text": [
            "Some weights of the model checkpoint at bert-base-uncased were not used when initializing BertForSequenceClassification: ['cls.predictions.decoder.weight', 'cls.predictions.bias', 'cls.predictions.transform.dense.bias', 'cls.seq_relationship.bias', 'cls.seq_relationship.weight', 'cls.predictions.transform.LayerNorm.weight', 'cls.predictions.transform.LayerNorm.bias', 'cls.predictions.transform.dense.weight']\n",
            "- This IS expected if you are initializing BertForSequenceClassification from the checkpoint of a model trained on another task or with another architecture (e.g. initializing a BertForSequenceClassification model from a BertForPreTraining model).\n",
            "- This IS NOT expected if you are initializing BertForSequenceClassification from the checkpoint of a model that you expect to be exactly identical (initializing a BertForSequenceClassification model from a BertForSequenceClassification model).\n",
            "Some weights of BertForSequenceClassification were not initialized from the model checkpoint at bert-base-uncased and are newly initialized: ['classifier.weight', 'classifier.bias']\n",
            "You should probably TRAIN this model on a down-stream task to be able to use it for predictions and inference.\n"
          ]
        }
      ]
    },
    {
      "cell_type": "code",
      "source": [
        "# Train Model\n",
        "from typing import List\n",
        "\n",
        "def pad_collate_fn(batch: List[torch.Tensor]):\n",
        "    input_ids, attention_mask, labels = zip(*batch)\n",
        "    input_ids = torch.nn.utils.rnn.pad_sequence(input_ids, batch_first=True, padding_value=tokenizer.pad_token_id)\n",
        "    attention_mask = torch.nn.utils.rnn.pad_sequence(attention_mask, batch_first=True, padding_value=0)\n",
        "    labels = torch.tensor(labels, dtype=torch.long)\n",
        "\n",
        "    return input_ids, attention_mask, labels\n",
        "\n",
        "train_dataloader = DataLoader(train_dataset, batch_size=batch_size, shuffle=True, collate_fn=pad_collate_fn)\n",
        "test_dataloader = DataLoader(test_dataset, batch_size=batch_size, shuffle=False, collate_fn=pad_collate_fn)\n",
        "\n",
        "\n",
        "train_accuracies = []\n",
        "\n",
        "for epoch in range(epochs):\n",
        "    model.train()\n",
        "    correct_preds = 0\n",
        "    total_preds = 0\n",
        "\n",
        "    for batch in train_dataloader:\n",
        "        input_ids, attention_mask, labels = [elem.to(device) for elem in batch]\n",
        "        optimizer.zero_grad()\n",
        "        outputs = model(input_ids, attention_mask=attention_mask)\n",
        "        logits = outputs.logits\n",
        "        loss = loss_fn(logits, labels)\n",
        "        loss.backward()\n",
        "        optimizer.step()\n",
        "\n",
        "        _, preds = torch.max(logits, 1)\n",
        "        correct_preds += (preds == labels).sum().item()\n",
        "        total_preds += len(labels)\n",
        "\n",
        "    train_accuracy = correct_preds / total_preds\n",
        "    train_accuracies.append(train_accuracy)\n",
        "    print(f\"Epoch {epoch + 1}/{epochs} - Train Accuracy: {train_accuracy}\")\n",
        "\n",
        "plt.plot(range(1, epochs + 1), train_accuracies)\n",
        "plt.xlabel(\"Epochs\")\n",
        "plt.ylabel(\"Accuracy\")\n",
        "plt.title(\"Training Accuracy over Epochs\")\n",
        "plt.show()\n"
      ],
      "metadata": {
        "id": "aNR8kECdzi0P",
        "colab": {
          "base_uri": "https://localhost:8080/",
          "height": 576
        },
        "outputId": "41268a26-98d0-4d30-8d24-adaf3f0432e4"
      },
      "execution_count": null,
      "outputs": [
        {
          "output_type": "stream",
          "name": "stdout",
          "text": [
            "Epoch 1/6 - Train Accuracy: 0.8320610687022901\n",
            "Epoch 2/6 - Train Accuracy: 0.7557251908396947\n",
            "Epoch 3/6 - Train Accuracy: 0.9312977099236641\n",
            "Epoch 4/6 - Train Accuracy: 0.9236641221374046\n",
            "Epoch 5/6 - Train Accuracy: 0.9770992366412213\n",
            "Epoch 6/6 - Train Accuracy: 0.9770992366412213\n"
          ]
        },
        {
          "output_type": "display_data",
          "data": {
            "text/plain": [
              "<Figure size 640x480 with 1 Axes>"
            ],
            "image/png": "[encoded data removed]"
          },
          "metadata": {}
        }
      ]
    },
    {
      "cell_type": "code",
      "source": [
        "# Evaluate the model on the test set after each epoch\n",
        "model.eval()\n",
        "epoch_predictions = []\n",
        "epoch_ground_truth = []\n",
        "with torch.no_grad():\n",
        "  for batch in test_dataloader:\n",
        "      input_ids, attention_mask, labels = [elem.to(device) for elem in batch]\n",
        "      outputs = model(input_ids, attention_mask=attention_mask)\n",
        "      logits = outputs.logits\n",
        "      _, preds = torch.max(logits, 1)\n",
        "      epoch_predictions.extend(preds.cpu().numpy().tolist())\n",
        "      epoch_ground_truth.extend(labels.cpu().numpy().tolist())\n",
        "    \n",
        "# Calculate and store the accuracy for this epoch\n",
        "epoch_accuracy = accuracy_score(epoch_ground_truth, epoch_predictions)\n",
        "epoch_accuracies.append(epoch_accuracy)\n",
        "print(f\"Epoch {epoch+1} Accuracy Score: {epoch_accuracy}\"\n"
      ],
      "metadata": {
        "colab": {
          "base_uri": "https://localhost:8080/"
        },
        "id": "3Xk5TUGX7CtF",
        "outputId": "406b4f50-721a-448d-cdf7-02bdd0176722"
      },
      "execution_count": null,
      "outputs": [
        {
          "output_type": "stream",
          "name": "stdout",
          "text": [
            "Epoch 6 Accuracy Score: 0.543859649122807\n"
          ]
        }
      ]
    },
    {
      "cell_type": "markdown",
      "source": [
        "## SVM"
      ],
      "metadata": {
        "id": "g4wypcN6_EBP"
      }
    },
    {
      "cell_type": "code",
      "source": [
        "import pandas as pd\n",
        "from sklearn.feature_extraction.text import TfidfVectorizer\n",
        "from sklearn.model_selection import train_test_split, cross_val_score\n",
        "from sklearn import svm\n",
        "from sklearn.metrics import classification_report, confusion_matrix\n",
        "\n",
        "# Preprocess the data as needed\n",
        "X = data['Headline'].values\n",
        "y = data['Label'].values\n",
        "\n",
        "# Split the data into training and testing sets\n",
        "X_train, X_test, y_train, y_test = train_test_split(X, y, test_size=0.2, random_state=42)\n",
        "\n",
        "# Vectorize the data using TF-IDF\n",
        "vectorizer = TfidfVectorizer()\n",
        "X_train_tfidf = vectorizer.fit_transform(X_train)\n",
        "X_test_tfidf = vectorizer.transform(X_test)\n",
        "\n",
        "# Train an SVM classifier with cross-validation\n",
        "clf = svm.SVC(kernel='linear')\n",
        "scores = cross_val_score(clf, X_train_tfidf, y_train, cv=5)\n",
        "\n",
        "# Print the cross-validation scores\n",
        "print('Cross-validation scores:', scores)\n",
        "print('Mean accuracy:', scores.mean())\n",
        "\n",
        "# Train the SVM classifier on the entire training set\n",
        "clf.fit(X_train_tfidf, y_train)\n",
        "\n",
        "# Make predictions on the test set\n",
        "y_pred = clf.predict(X_test_tfidf)\n",
        "\n",
        "# Evaluate the performance of the classifier\n",
        "print(confusion_matrix(y_test,y_pred))\n",
        "print(classification_report(y_test,y_pred))\n",
        "\n",
        "print(\"Accuracy:\", accuracy_score(y_test, y_pred))\n",
        "\n"
      ],
      "metadata": {
        "colab": {
          "base_uri": "https://localhost:8080/"
        },
        "id": "47haT9xu_F11",
        "outputId": "3bebea3e-3324-4d50-ddf6-526c1de3e017"
      },
      "execution_count": null,
      "outputs": [
        {
          "output_type": "stream",
          "name": "stderr",
          "text": [
            "/usr/local/lib/python3.10/dist-packages/sklearn/model_selection/_split.py:700: UserWarning: The least populated class in y has only 1 members, which is less than n_splits=5.\n",
            "  warnings.warn(\n"
          ]
        },
        {
          "output_type": "stream",
          "name": "stdout",
          "text": [
            "Cross-validation scores: [0.53333333 0.5        0.53333333 0.46666667 0.5       ]\n",
            "Mean accuracy: 0.5066666666666666\n",
            "[[16  5]\n",
            " [12  5]]\n",
            "              precision    recall  f1-score   support\n",
            "\n",
            "           0       0.57      0.76      0.65        21\n",
            "           2       0.50      0.29      0.37        17\n",
            "\n",
            "    accuracy                           0.55        38\n",
            "   macro avg       0.54      0.53      0.51        38\n",
            "weighted avg       0.54      0.55      0.53        38\n",
            "\n",
            "Accuracy: 0.5526315789473685\n"
          ]
        }
      ]
    }
  ]
}